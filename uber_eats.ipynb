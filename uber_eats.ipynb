{
 "cells": [
  {
   "cell_type": "code",
   "execution_count": 1,
   "metadata": {},
   "outputs": [],
   "source": [
    "import pandas as pd\n",
    "import matplotlib as mpl\n",
    "import numpy as np\n",
    "import scipy as sp"
   ]
  },
  {
   "cell_type": "code",
   "execution_count": 4,
   "metadata": {},
   "outputs": [
    {
     "name": "stdout",
     "output_type": "stream",
     "text": [
      "<class 'pandas.core.frame.DataFrame'>\n",
      "RangeIndex: 25233 entries, 0 to 25232\n",
      "Data columns (total 11 columns):\n",
      " #   Column        Non-Null Count  Dtype  \n",
      "---  ------        --------------  -----  \n",
      " 0   id            25233 non-null  int64  \n",
      " 1   position      25233 non-null  int64  \n",
      " 2   name          25233 non-null  object \n",
      " 3   score         13727 non-null  float64\n",
      " 4   ratings       13727 non-null  float64\n",
      " 5   category      25222 non-null  object \n",
      " 6   price_range   21254 non-null  object \n",
      " 7   full_address  25068 non-null  object \n",
      " 8   zip_code      25064 non-null  object \n",
      " 9   lat           25233 non-null  float64\n",
      " 10  lng           25233 non-null  float64\n",
      "dtypes: float64(4), int64(2), object(5)\n",
      "memory usage: 2.1+ MB\n"
     ]
    }
   ],
   "source": [
    "# read the csv file\n",
    "eats_csv =  pd.read_csv('./restaurants.csv')\n",
    "eats_csv.info()"
   ]
  },
  {
   "cell_type": "markdown",
   "metadata": {},
   "source": [
    "### Things to Find\n",
    "1. 주 별 소득과 Price range의 상관관계\n",
    "2. 지역별 음식점 타입의 인기도 "
   ]
  },
  {
   "cell_type": "markdown",
   "metadata": {},
   "source": [
    "eats_csv."
   ]
  }
 ],
 "metadata": {
  "kernelspec": {
   "display_name": "Python 3.9.10 64-bit",
   "language": "python",
   "name": "python3"
  },
  "language_info": {
   "codemirror_mode": {
    "name": "ipython",
    "version": 3
   },
   "file_extension": ".py",
   "mimetype": "text/x-python",
   "name": "python",
   "nbconvert_exporter": "python",
   "pygments_lexer": "ipython3",
   "version": "3.9.10"
  },
  "orig_nbformat": 4,
  "vscode": {
   "interpreter": {
    "hash": "eef5f017b56a1ae6f2546de1906902af4bf048bfb9f6efafd837322f40705f91"
   }
  }
 },
 "nbformat": 4,
 "nbformat_minor": 2
}
